{
 "cells": [
  {
   "cell_type": "markdown",
   "id": "f21b84bc",
   "metadata": {},
   "source": [
    "# Segmenting a Database Retrospectively"
   ]
  },
  {
   "cell_type": "markdown",
   "id": "cac78b2e",
   "metadata": {
    "tags": []
   },
   "source": [
    "## Computing RFM"
   ]
  },
  {
   "cell_type": "code",
   "execution_count": 2,
   "id": "2accfb33",
   "metadata": {},
   "outputs": [],
   "source": [
    "# import needed packages\n",
    "import matplotlib as mpl\n",
    "import matplotlib.pyplot as plt\n",
    "import numpy as np\n",
    "import pandas as pd\n",
    "import patsy\n",
    "import squarify\n",
    "import statsmodels.api as sm\n",
    "from sklearn.linear_model import LogisticRegression"
   ]
  },
  {
   "cell_type": "code",
   "execution_count": 3,
   "id": "ab13f889",
   "metadata": {},
   "outputs": [],
   "source": [
    "from pandasql import sqldf"
   ]
  },
  {
   "cell_type": "code",
   "execution_count": 3,
   "id": "30d31a96",
   "metadata": {},
   "outputs": [],
   "source": [
    "# Set notebook environment\n",
    "pysqldf = lambda q: sqldf(q, globals())\n",
    "%precision %.2f\n",
    "pd.options.display.float_format = \"{:,.2f}\".format\n",
    "plt.rcParams[\"figure.figsize\"] = 10, 8"
   ]
  },
  {
   "cell_type": "code",
   "execution_count": 4,
   "id": "10e3d959",
   "metadata": {},
   "outputs": [
    {
     "data": {
      "text/html": [
       "<div>\n",
       "<style scoped>\n",
       "    .dataframe tbody tr th:only-of-type {\n",
       "        vertical-align: middle;\n",
       "    }\n",
       "\n",
       "    .dataframe tbody tr th {\n",
       "        vertical-align: top;\n",
       "    }\n",
       "\n",
       "    .dataframe thead th {\n",
       "        text-align: right;\n",
       "    }\n",
       "</style>\n",
       "<table border=\"1\" class=\"dataframe\">\n",
       "  <thead>\n",
       "    <tr style=\"text-align: right;\">\n",
       "      <th></th>\n",
       "      <th>customer_id</th>\n",
       "      <th>purchase_amount</th>\n",
       "      <th>date_of_purchase</th>\n",
       "    </tr>\n",
       "  </thead>\n",
       "  <tbody>\n",
       "    <tr>\n",
       "      <th>4510</th>\n",
       "      <td>8060</td>\n",
       "      <td>30.00</td>\n",
       "      <td>2014-12-24</td>\n",
       "    </tr>\n",
       "    <tr>\n",
       "      <th>17761</th>\n",
       "      <td>109180</td>\n",
       "      <td>50.00</td>\n",
       "      <td>2009-11-25</td>\n",
       "    </tr>\n",
       "    <tr>\n",
       "      <th>39110</th>\n",
       "      <td>9830</td>\n",
       "      <td>30.00</td>\n",
       "      <td>2007-06-12</td>\n",
       "    </tr>\n",
       "    <tr>\n",
       "      <th>37183</th>\n",
       "      <td>56400</td>\n",
       "      <td>60.00</td>\n",
       "      <td>2009-09-30</td>\n",
       "    </tr>\n",
       "    <tr>\n",
       "      <th>33705</th>\n",
       "      <td>41290</td>\n",
       "      <td>60.00</td>\n",
       "      <td>2007-08-21</td>\n",
       "    </tr>\n",
       "  </tbody>\n",
       "</table>\n",
       "</div>"
      ],
      "text/plain": [
       "       customer_id  purchase_amount date_of_purchase\n",
       "4510          8060            30.00       2014-12-24\n",
       "17761       109180            50.00       2009-11-25\n",
       "39110         9830            30.00       2007-06-12\n",
       "37183        56400            60.00       2009-09-30\n",
       "33705        41290            60.00       2007-08-21"
      ]
     },
     "execution_count": 4,
     "metadata": {},
     "output_type": "execute_result"
    }
   ],
   "source": [
    "# Load text file into a local variable\n",
    "columns = [\"customer_id\", \"purchase_amount\", \"date_of_purchase\"]\n",
    "df = pd.read_csv(\"purchases.txt\", header=None, sep=\"\\t\", names=columns)\n",
    "df.sample(n=5, random_state=57)"
   ]
  },
  {
   "cell_type": "code",
   "execution_count": 5,
   "id": "f6e33568",
   "metadata": {},
   "outputs": [
    {
     "data": {
      "text/html": [
       "<div>\n",
       "<style scoped>\n",
       "    .dataframe tbody tr th:only-of-type {\n",
       "        vertical-align: middle;\n",
       "    }\n",
       "\n",
       "    .dataframe tbody tr th {\n",
       "        vertical-align: top;\n",
       "    }\n",
       "\n",
       "    .dataframe thead th {\n",
       "        text-align: right;\n",
       "    }\n",
       "</style>\n",
       "<table border=\"1\" class=\"dataframe\">\n",
       "  <thead>\n",
       "    <tr style=\"text-align: right;\">\n",
       "      <th></th>\n",
       "      <th>customer_id</th>\n",
       "      <th>purchase_amount</th>\n",
       "      <th>date_of_purchase</th>\n",
       "      <th>year_of_purchase</th>\n",
       "    </tr>\n",
       "  </thead>\n",
       "  <tbody>\n",
       "    <tr>\n",
       "      <th>0</th>\n",
       "      <td>760</td>\n",
       "      <td>25.00</td>\n",
       "      <td>2009-11-06</td>\n",
       "      <td>2009</td>\n",
       "    </tr>\n",
       "    <tr>\n",
       "      <th>1</th>\n",
       "      <td>860</td>\n",
       "      <td>50.00</td>\n",
       "      <td>2012-09-28</td>\n",
       "      <td>2012</td>\n",
       "    </tr>\n",
       "    <tr>\n",
       "      <th>2</th>\n",
       "      <td>1200</td>\n",
       "      <td>100.00</td>\n",
       "      <td>2005-10-25</td>\n",
       "      <td>2005</td>\n",
       "    </tr>\n",
       "    <tr>\n",
       "      <th>3</th>\n",
       "      <td>1420</td>\n",
       "      <td>50.00</td>\n",
       "      <td>2009-07-09</td>\n",
       "      <td>2009</td>\n",
       "    </tr>\n",
       "    <tr>\n",
       "      <th>4</th>\n",
       "      <td>1940</td>\n",
       "      <td>70.00</td>\n",
       "      <td>2013-01-25</td>\n",
       "      <td>2013</td>\n",
       "    </tr>\n",
       "  </tbody>\n",
       "</table>\n",
       "</div>"
      ],
      "text/plain": [
       "   customer_id  purchase_amount date_of_purchase  year_of_purchase\n",
       "0          760            25.00       2009-11-06              2009\n",
       "1          860            50.00       2012-09-28              2012\n",
       "2         1200           100.00       2005-10-25              2005\n",
       "3         1420            50.00       2009-07-09              2009\n",
       "4         1940            70.00       2013-01-25              2013"
      ]
     },
     "execution_count": 5,
     "metadata": {},
     "output_type": "execute_result"
    }
   ],
   "source": [
    "# interpret the last column as datetime\n",
    "df[\"date_of_purchase\"] = pd.to_datetime(df[\"date_of_purchase\"], format=\"%Y-%m-%d\")\n",
    "# Extract year of purchase and save it as a column\n",
    "df[\"year_of_purchase\"] = df[\"date_of_purchase\"].dt.year\n",
    "df.head()"
   ]
  },
  {
   "cell_type": "code",
   "execution_count": 6,
   "id": "41b8ef4e",
   "metadata": {},
   "outputs": [],
   "source": [
    "# Add a day_since column showing the difference between last purchase and a basedate\n",
    "basedate = pd.Timestamp(\"2016-01-01\")\n",
    "df[\"days_since\"] = (basedate - df[\"date_of_purchase\"]).dt.days"
   ]
  },
  {
   "cell_type": "code",
   "execution_count": 7,
   "id": "b2375709",
   "metadata": {},
   "outputs": [
    {
     "name": "stdout",
     "output_type": "stream",
     "text": [
      "<class 'pandas.core.frame.DataFrame'>\n",
      "RangeIndex: 51243 entries, 0 to 51242\n",
      "Data columns (total 5 columns):\n",
      " #   Column            Non-Null Count  Dtype         \n",
      "---  ------            --------------  -----         \n",
      " 0   customer_id       51243 non-null  int64         \n",
      " 1   purchase_amount   51243 non-null  float64       \n",
      " 2   date_of_purchase  51243 non-null  datetime64[ns]\n",
      " 3   year_of_purchase  51243 non-null  int64         \n",
      " 4   days_since        51243 non-null  int64         \n",
      "dtypes: datetime64[ns](1), float64(1), int64(3)\n",
      "memory usage: 2.0 MB\n"
     ]
    }
   ],
   "source": [
    "df.info()"
   ]
  },
  {
   "cell_type": "markdown",
   "id": "d78abf7c",
   "metadata": {},
   "source": [
    "## 2014 - Data"
   ]
  },
  {
   "cell_type": "code",
   "execution_count": 8,
   "id": "c9cea851",
   "metadata": {},
   "outputs": [],
   "source": [
    "# Compute RFM variables as of a year ago using SQL\n",
    "q = \"\"\"\n",
    "        SELECT customer_id,\n",
    "        MIN(days_since) - 365 AS 'recency',\n",
    "        MAX(days_since) - 365 AS 'first_purchase',\n",
    "        COUNT(*) AS 'frequency',\n",
    "        AVG(purchase_amount) AS 'amount'\n",
    "        FROM df\n",
    "        WHERE days_since > 365\n",
    "        GROUP BY 1\"\"\"\n",
    "\n",
    "customers_2014 = sqldf(q)"
   ]
  },
  {
   "cell_type": "code",
   "execution_count": 9,
   "id": "0c8155cb",
   "metadata": {},
   "outputs": [
    {
     "name": "stdout",
     "output_type": "stream",
     "text": [
      "<class 'pandas.core.frame.DataFrame'>\n",
      "RangeIndex: 16905 entries, 0 to 16904\n",
      "Data columns (total 5 columns):\n",
      " #   Column          Non-Null Count  Dtype  \n",
      "---  ------          --------------  -----  \n",
      " 0   customer_id     16905 non-null  int64  \n",
      " 1   recency         16905 non-null  int64  \n",
      " 2   first_purchase  16905 non-null  int64  \n",
      " 3   frequency       16905 non-null  int64  \n",
      " 4   amount          16905 non-null  float64\n",
      "dtypes: float64(1), int64(4)\n",
      "memory usage: 660.5 KB\n"
     ]
    }
   ],
   "source": [
    "customers_2014.info()"
   ]
  },
  {
   "cell_type": "code",
   "execution_count": 10,
   "id": "82e75239",
   "metadata": {},
   "outputs": [],
   "source": [
    "customers_2014.loc[customers_2014[\"recency\"] > 365 * 3, \"segment\"] = \"inactive\"\n",
    "customers_2014[\"segment\"] = customers_2014[\"segment\"].fillna(\"NA\")\n",
    "customers_2014.loc[\n",
    "    (customers_2014[\"recency\"] <= 365 * 3) & (customers_2014[\"recency\"] > 356 * 2),\n",
    "    \"segment\",\n",
    "] = \"cold\"\n",
    "customers_2014.loc[\n",
    "    (customers_2014[\"recency\"] <= 365 * 2) & (customers_2014[\"recency\"] > 365 * 1),\n",
    "    \"segment\",\n",
    "] = \"warm\"\n",
    "customers_2014.loc[customers_2014[\"recency\"] <= 365, \"segment\"] = \"active\"\n",
    "customers_2014.loc[\n",
    "    (customers_2014[\"segment\"] == \"warm\")\n",
    "    & (customers_2014[\"first_purchase\"] <= 365 * 2),\n",
    "    \"segment\",\n",
    "] = \"new warm\"\n",
    "customers_2014.loc[\n",
    "    (customers_2014[\"segment\"] == \"warm\") & (customers_2014[\"amount\"] < 100), \"segment\"\n",
    "] = \"warm low value\"\n",
    "\n",
    "customers_2014.loc[\n",
    "    (customers_2014[\"segment\"] == \"warm\") & (customers_2014[\"amount\"] >= 100), \"segment\"\n",
    "] = \"warm high value\"\n",
    "customers_2014.loc[\n",
    "    (customers_2014[\"segment\"] == \"active\") & (customers_2014[\"first_purchase\"] <= 365),\n",
    "    \"segment\",\n",
    "] = \"new active\"\n",
    "\n",
    "customers_2014.loc[\n",
    "    (customers_2014[\"segment\"] == \"active\") & (customers_2014[\"amount\"] < 100),\n",
    "    \"segment\",\n",
    "] = \"active low value\"\n",
    "\n",
    "customers_2014.loc[\n",
    "    (customers_2014[\"segment\"] == \"active\") & (customers_2014[\"amount\"] >= 100),\n",
    "    \"segment\",\n",
    "] = \"active high value\""
   ]
  },
  {
   "cell_type": "code",
   "execution_count": 11,
   "id": "ebb12884",
   "metadata": {},
   "outputs": [
    {
     "data": {
      "text/plain": [
       "inactive             7512\n",
       "active low value     3011\n",
       "cold                 2153\n",
       "new active           1437\n",
       "new warm             1250\n",
       "warm low value        956\n",
       "active high value     475\n",
       "warm high value       111\n",
       "Name: segment, dtype: int64"
      ]
     },
     "execution_count": 11,
     "metadata": {},
     "output_type": "execute_result"
    }
   ],
   "source": [
    "customers_2014[\"segment\"].value_counts()"
   ]
  },
  {
   "cell_type": "code",
   "execution_count": 12,
   "id": "3b9a1dae",
   "metadata": {},
   "outputs": [
    {
     "data": {
      "text/html": [
       "<div>\n",
       "<style scoped>\n",
       "    .dataframe tbody tr th:only-of-type {\n",
       "        vertical-align: middle;\n",
       "    }\n",
       "\n",
       "    .dataframe tbody tr th {\n",
       "        vertical-align: top;\n",
       "    }\n",
       "\n",
       "    .dataframe thead th {\n",
       "        text-align: right;\n",
       "    }\n",
       "</style>\n",
       "<table border=\"1\" class=\"dataframe\">\n",
       "  <thead>\n",
       "    <tr style=\"text-align: right;\">\n",
       "      <th></th>\n",
       "      <th>recency</th>\n",
       "      <th>first_purchase</th>\n",
       "      <th>frequency</th>\n",
       "      <th>amount</th>\n",
       "    </tr>\n",
       "  </thead>\n",
       "  <tbody>\n",
       "    <tr>\n",
       "      <th>mean</th>\n",
       "      <td>1,122.59</td>\n",
       "      <td>1,788.41</td>\n",
       "      <td>2.66</td>\n",
       "      <td>55.53</td>\n",
       "    </tr>\n",
       "    <tr>\n",
       "      <th>std</th>\n",
       "      <td>964.81</td>\n",
       "      <td>1,024.34</td>\n",
       "      <td>2.72</td>\n",
       "      <td>144.49</td>\n",
       "    </tr>\n",
       "    <tr>\n",
       "      <th>75%</th>\n",
       "      <td>1,868.00</td>\n",
       "      <td>2,695.00</td>\n",
       "      <td>3.00</td>\n",
       "      <td>50.00</td>\n",
       "    </tr>\n",
       "    <tr>\n",
       "      <th>max</th>\n",
       "      <td>3,649.00</td>\n",
       "      <td>3,651.00</td>\n",
       "      <td>40.00</td>\n",
       "      <td>4,500.00</td>\n",
       "    </tr>\n",
       "  </tbody>\n",
       "</table>\n",
       "</div>"
      ],
      "text/plain": [
       "      recency  first_purchase  frequency   amount\n",
       "mean 1,122.59        1,788.41       2.66    55.53\n",
       "std    964.81        1,024.34       2.72   144.49\n",
       "75%  1,868.00        2,695.00       3.00    50.00\n",
       "max  3,649.00        3,651.00      40.00 4,500.00"
      ]
     },
     "execution_count": 12,
     "metadata": {},
     "output_type": "execute_result"
    }
   ],
   "source": [
    "customers_2014.iloc[:, 1:].describe().loc[[\"mean\", \"std\", \"75%\", \"max\"]]"
   ]
  },
  {
   "cell_type": "code",
   "execution_count": 13,
   "id": "8e86c38d",
   "metadata": {},
   "outputs": [
    {
     "data": {
      "text/html": [
       "<div>\n",
       "<style scoped>\n",
       "    .dataframe tbody tr th:only-of-type {\n",
       "        vertical-align: middle;\n",
       "    }\n",
       "\n",
       "    .dataframe tbody tr th {\n",
       "        vertical-align: top;\n",
       "    }\n",
       "\n",
       "    .dataframe thead th {\n",
       "        text-align: right;\n",
       "    }\n",
       "</style>\n",
       "<table border=\"1\" class=\"dataframe\">\n",
       "  <thead>\n",
       "    <tr style=\"text-align: right;\">\n",
       "      <th></th>\n",
       "      <th>customer_id</th>\n",
       "      <th>recency</th>\n",
       "      <th>first_purchase</th>\n",
       "      <th>frequency</th>\n",
       "      <th>amount</th>\n",
       "      <th>segment</th>\n",
       "    </tr>\n",
       "  </thead>\n",
       "  <tbody>\n",
       "    <tr>\n",
       "      <th>0</th>\n",
       "      <td>10</td>\n",
       "      <td>3464</td>\n",
       "      <td>3464</td>\n",
       "      <td>1</td>\n",
       "      <td>30.00</td>\n",
       "      <td>inactive</td>\n",
       "    </tr>\n",
       "    <tr>\n",
       "      <th>1</th>\n",
       "      <td>80</td>\n",
       "      <td>302</td>\n",
       "      <td>3386</td>\n",
       "      <td>6</td>\n",
       "      <td>70.00</td>\n",
       "      <td>active low value</td>\n",
       "    </tr>\n",
       "    <tr>\n",
       "      <th>2</th>\n",
       "      <td>90</td>\n",
       "      <td>393</td>\n",
       "      <td>3418</td>\n",
       "      <td>10</td>\n",
       "      <td>115.80</td>\n",
       "      <td>warm high value</td>\n",
       "    </tr>\n",
       "    <tr>\n",
       "      <th>3</th>\n",
       "      <td>120</td>\n",
       "      <td>1036</td>\n",
       "      <td>1036</td>\n",
       "      <td>1</td>\n",
       "      <td>20.00</td>\n",
       "      <td>cold</td>\n",
       "    </tr>\n",
       "    <tr>\n",
       "      <th>4</th>\n",
       "      <td>130</td>\n",
       "      <td>2605</td>\n",
       "      <td>3345</td>\n",
       "      <td>2</td>\n",
       "      <td>50.00</td>\n",
       "      <td>inactive</td>\n",
       "    </tr>\n",
       "  </tbody>\n",
       "</table>\n",
       "</div>"
      ],
      "text/plain": [
       "   customer_id  recency  first_purchase  frequency  amount           segment\n",
       "0           10     3464            3464          1   30.00          inactive\n",
       "1           80      302            3386          6   70.00  active low value\n",
       "2           90      393            3418         10  115.80   warm high value\n",
       "3          120     1036            1036          1   20.00              cold\n",
       "4          130     2605            3345          2   50.00          inactive"
      ]
     },
     "execution_count": 13,
     "metadata": {},
     "output_type": "execute_result"
    }
   ],
   "source": [
    "customers_2014.head()"
   ]
  },
  {
   "cell_type": "code",
   "execution_count": 14,
   "id": "c1c342ba",
   "metadata": {},
   "outputs": [],
   "source": [
    "# Transform segment column datatype from object to category\n",
    "customers_2014[\"segment\"] = customers_2014[\"segment\"].astype(\"category\")"
   ]
  },
  {
   "cell_type": "code",
   "execution_count": 15,
   "id": "7e2e79d9",
   "metadata": {
    "tags": []
   },
   "outputs": [
    {
     "data": {
      "text/html": [
       "<div>\n",
       "<style scoped>\n",
       "    .dataframe tbody tr th:only-of-type {\n",
       "        vertical-align: middle;\n",
       "    }\n",
       "\n",
       "    .dataframe tbody tr th {\n",
       "        vertical-align: top;\n",
       "    }\n",
       "\n",
       "    .dataframe thead th {\n",
       "        text-align: right;\n",
       "    }\n",
       "</style>\n",
       "<table border=\"1\" class=\"dataframe\">\n",
       "  <thead>\n",
       "    <tr style=\"text-align: right;\">\n",
       "      <th></th>\n",
       "      <th>customer_id</th>\n",
       "      <th>recency</th>\n",
       "      <th>first_purchase</th>\n",
       "      <th>frequency</th>\n",
       "      <th>amount</th>\n",
       "      <th>segment</th>\n",
       "    </tr>\n",
       "  </thead>\n",
       "  <tbody>\n",
       "    <tr>\n",
       "      <th>0</th>\n",
       "      <td>10</td>\n",
       "      <td>3464</td>\n",
       "      <td>3464</td>\n",
       "      <td>1</td>\n",
       "      <td>30.00</td>\n",
       "      <td>inactive</td>\n",
       "    </tr>\n",
       "    <tr>\n",
       "      <th>6872</th>\n",
       "      <td>108170</td>\n",
       "      <td>2261</td>\n",
       "      <td>2261</td>\n",
       "      <td>1</td>\n",
       "      <td>20.00</td>\n",
       "      <td>inactive</td>\n",
       "    </tr>\n",
       "    <tr>\n",
       "      <th>6873</th>\n",
       "      <td>108180</td>\n",
       "      <td>1693</td>\n",
       "      <td>2261</td>\n",
       "      <td>2</td>\n",
       "      <td>20.00</td>\n",
       "      <td>inactive</td>\n",
       "    </tr>\n",
       "    <tr>\n",
       "      <th>6874</th>\n",
       "      <td>108190</td>\n",
       "      <td>2261</td>\n",
       "      <td>2261</td>\n",
       "      <td>1</td>\n",
       "      <td>30.00</td>\n",
       "      <td>inactive</td>\n",
       "    </tr>\n",
       "    <tr>\n",
       "      <th>6875</th>\n",
       "      <td>108200</td>\n",
       "      <td>2107</td>\n",
       "      <td>2261</td>\n",
       "      <td>3</td>\n",
       "      <td>36.67</td>\n",
       "      <td>inactive</td>\n",
       "    </tr>\n",
       "    <tr>\n",
       "      <th>...</th>\n",
       "      <td>...</td>\n",
       "      <td>...</td>\n",
       "      <td>...</td>\n",
       "      <td>...</td>\n",
       "      <td>...</td>\n",
       "      <td>...</td>\n",
       "    </tr>\n",
       "    <tr>\n",
       "      <th>15939</th>\n",
       "      <td>221470</td>\n",
       "      <td>236</td>\n",
       "      <td>236</td>\n",
       "      <td>1</td>\n",
       "      <td>15.00</td>\n",
       "      <td>new active</td>\n",
       "    </tr>\n",
       "    <tr>\n",
       "      <th>15938</th>\n",
       "      <td>221460</td>\n",
       "      <td>236</td>\n",
       "      <td>236</td>\n",
       "      <td>1</td>\n",
       "      <td>30.00</td>\n",
       "      <td>new active</td>\n",
       "    </tr>\n",
       "    <tr>\n",
       "      <th>15937</th>\n",
       "      <td>221450</td>\n",
       "      <td>236</td>\n",
       "      <td>236</td>\n",
       "      <td>1</td>\n",
       "      <td>45.00</td>\n",
       "      <td>new active</td>\n",
       "    </tr>\n",
       "    <tr>\n",
       "      <th>15935</th>\n",
       "      <td>221430</td>\n",
       "      <td>236</td>\n",
       "      <td>236</td>\n",
       "      <td>1</td>\n",
       "      <td>45.00</td>\n",
       "      <td>new active</td>\n",
       "    </tr>\n",
       "    <tr>\n",
       "      <th>16904</th>\n",
       "      <td>245840</td>\n",
       "      <td>48</td>\n",
       "      <td>48</td>\n",
       "      <td>1</td>\n",
       "      <td>50.00</td>\n",
       "      <td>new active</td>\n",
       "    </tr>\n",
       "  </tbody>\n",
       "</table>\n",
       "<p>16905 rows × 6 columns</p>\n",
       "</div>"
      ],
      "text/plain": [
       "       customer_id  recency  first_purchase  frequency  amount     segment\n",
       "0               10     3464            3464          1   30.00    inactive\n",
       "6872        108170     2261            2261          1   20.00    inactive\n",
       "6873        108180     1693            2261          2   20.00    inactive\n",
       "6874        108190     2261            2261          1   30.00    inactive\n",
       "6875        108200     2107            2261          3   36.67    inactive\n",
       "...            ...      ...             ...        ...     ...         ...\n",
       "15939       221470      236             236          1   15.00  new active\n",
       "15938       221460      236             236          1   30.00  new active\n",
       "15937       221450      236             236          1   45.00  new active\n",
       "15935       221430      236             236          1   45.00  new active\n",
       "16904       245840       48              48          1   50.00  new active\n",
       "\n",
       "[16905 rows x 6 columns]"
      ]
     },
     "execution_count": 15,
     "metadata": {},
     "output_type": "execute_result"
    }
   ],
   "source": [
    "# Re-order segments in a better readable way\n",
    "sorter = [\n",
    "    \"inactive\",\n",
    "    \"cold\",\n",
    "    \"warm high value\",\n",
    "    \"warm low value\",\n",
    "    \"new warm\",\n",
    "    \"active high value\",\n",
    "    \"active low value\",\n",
    "    \"new active\",\n",
    "]\n",
    "customers_2014.segment.cat.set_categories(sorter, inplace=True)\n",
    "customers_2014.sort_values([\"segment\"])"
   ]
  },
  {
   "cell_type": "code",
   "execution_count": 16,
   "id": "aac29a82",
   "metadata": {
    "tags": []
   },
   "outputs": [],
   "source": [
    "c2014 = pd.DataFrame(customers_2014[\"segment\"].value_counts())"
   ]
  },
  {
   "cell_type": "code",
   "execution_count": 17,
   "id": "90887466",
   "metadata": {},
   "outputs": [
    {
     "data": {
      "text/plain": [
       "(0.0, 100.0, 0.0, 100.0)"
      ]
     },
     "execution_count": 17,
     "metadata": {},
     "output_type": "execute_result"
    },
    {
     "data": {
      "image/png": "[encoded data removed]",
      "text/plain": [
       "<Figure size 720x576 with 1 Axes>"
      ]
     },
     "metadata": {
      "needs_background": "light"
     },
     "output_type": "display_data"
    }
   ],
   "source": [
    "norm = mpl.colors.Normalize(vmin=min(c2014[\"segment\"]), vmax=max(c2014[\"segment\"]))\n",
    "colors = [mpl.cm.Blues(norm(value)) for value in c2014[\"segment\"]]\n",
    "squarify.plot(sizes=c2014[\"segment\"], label=c2014.index, color=colors, alpha=0.6)\n",
    "plt.axis(\"off\")"
   ]
  },
  {
   "cell_type": "markdown",
   "id": "8fd4e1b1",
   "metadata": {},
   "source": [
    "## 2015 - Data"
   ]
  },
  {
   "cell_type": "code",
   "execution_count": 18,
   "id": "923ec778",
   "metadata": {},
   "outputs": [],
   "source": [
    "# Compute revenues generated by customers in 2015 using SQL\n",
    "q = \"\"\"\n",
    "        SELECT customer_id, \n",
    "        SUM(purchase_amount) AS 'revenue_2015'\n",
    "        FROM df\n",
    "        WHERE year_of_purchase = 2015\n",
    "        GROUP BY 1\n",
    "    \"\"\"\n",
    "revenue_2015 = sqldf(q)"
   ]
  },
  {
   "cell_type": "code",
   "execution_count": 19,
   "id": "565adc50",
   "metadata": {},
   "outputs": [],
   "source": [
    "q = \"\"\"\n",
    "        SELECT customer_id,\n",
    "        MIN(days_since) AS 'recency',\n",
    "        MAX(days_since) AS 'first_purchase',\n",
    "        COUNT(*) AS 'frequency',\n",
    "        AVG(purchase_amount) AS 'amount'\n",
    "        FROM df GROUP BY 1\"\"\"\n",
    "customers_2015 = sqldf(q)"
   ]
  },
  {
   "cell_type": "code",
   "execution_count": 20,
   "id": "e8ed67bf",
   "metadata": {},
   "outputs": [
    {
     "data": {
      "text/plain": [
       "5398"
      ]
     },
     "execution_count": 20,
     "metadata": {},
     "output_type": "execute_result"
    }
   ],
   "source": [
    "revenue_2015.shape[0]"
   ]
  },
  {
   "cell_type": "code",
   "execution_count": 21,
   "id": "44b0eb94",
   "metadata": {},
   "outputs": [
    {
     "data": {
      "text/plain": [
       "18417"
      ]
     },
     "execution_count": 21,
     "metadata": {},
     "output_type": "execute_result"
    }
   ],
   "source": [
    "customers_2015.shape[0]"
   ]
  },
  {
   "cell_type": "code",
   "execution_count": 22,
   "id": "10e604f1",
   "metadata": {},
   "outputs": [],
   "source": [
    "customers_2015.loc[customers_2015[\"recency\"] > 365 * 3, \"segment\"] = \"inactive\"\n",
    "customers_2015[\"segment\"] = customers_2015[\"segment\"].fillna(\"NA\")\n",
    "customers_2015.loc[\n",
    "    (customers_2015[\"recency\"] <= 365 * 3) & (customers_2015[\"recency\"] > 356 * 2),\n",
    "    \"segment\",\n",
    "] = \"cold\"\n",
    "customers_2015.loc[\n",
    "    (customers_2015[\"recency\"] <= 365 * 2) & (customers_2015[\"recency\"] > 365 * 1),\n",
    "    \"segment\",\n",
    "] = \"warm\"\n",
    "customers_2015.loc[customers_2015[\"recency\"] <= 365, \"segment\"] = \"active\"\n",
    "customers_2015.loc[\n",
    "    (customers_2015[\"segment\"] == \"warm\")\n",
    "    & (customers_2015[\"first_purchase\"] <= 365 * 2),\n",
    "    \"segment\",\n",
    "] = \"new warm\"\n",
    "customers_2015.loc[\n",
    "    (customers_2015[\"segment\"] == \"warm\") & (customers_2015[\"amount\"] < 100), \"segment\"\n",
    "] = \"warm low value\"\n",
    "customers_2015.loc[\n",
    "    (customers_2015[\"segment\"] == \"warm\") & (customers_2015[\"amount\"] >= 100), \"segment\"\n",
    "] = \"warm high value\"\n",
    "customers_2015.loc[\n",
    "    (customers_2015[\"segment\"] == \"active\") & (customers_2015[\"first_purchase\"] <= 365),\n",
    "    \"segment\",\n",
    "] = \"new active\"\n",
    "customers_2015.loc[\n",
    "    (customers_2015[\"segment\"] == \"active\") & (customers_2015[\"amount\"] < 100),\n",
    "    \"segment\",\n",
    "] = \"active low value\"\n",
    "customers_2015.loc[\n",
    "    (customers_2015[\"segment\"] == \"active\") & (customers_2015[\"amount\"] >= 100),\n",
    "    \"segment\",\n",
    "] = \"active high value\""
   ]
  },
  {
   "cell_type": "code",
   "execution_count": 23,
   "id": "18d77675",
   "metadata": {},
   "outputs": [
    {
     "data": {
      "text/html": [
       "<div>\n",
       "<style scoped>\n",
       "    .dataframe tbody tr th:only-of-type {\n",
       "        vertical-align: middle;\n",
       "    }\n",
       "\n",
       "    .dataframe tbody tr th {\n",
       "        vertical-align: top;\n",
       "    }\n",
       "\n",
       "    .dataframe thead th {\n",
       "        text-align: right;\n",
       "    }\n",
       "</style>\n",
       "<table border=\"1\" class=\"dataframe\">\n",
       "  <thead>\n",
       "    <tr style=\"text-align: right;\">\n",
       "      <th></th>\n",
       "      <th>customer_id</th>\n",
       "      <th>recency</th>\n",
       "      <th>first_purchase</th>\n",
       "      <th>frequency</th>\n",
       "      <th>amount</th>\n",
       "      <th>segment</th>\n",
       "    </tr>\n",
       "  </thead>\n",
       "  <tbody>\n",
       "    <tr>\n",
       "      <th>0</th>\n",
       "      <td>10</td>\n",
       "      <td>3829</td>\n",
       "      <td>3829</td>\n",
       "      <td>1</td>\n",
       "      <td>30.00</td>\n",
       "      <td>inactive</td>\n",
       "    </tr>\n",
       "    <tr>\n",
       "      <th>7894</th>\n",
       "      <td>119690</td>\n",
       "      <td>1500</td>\n",
       "      <td>2443</td>\n",
       "      <td>4</td>\n",
       "      <td>30.00</td>\n",
       "      <td>inactive</td>\n",
       "    </tr>\n",
       "    <tr>\n",
       "      <th>7895</th>\n",
       "      <td>119710</td>\n",
       "      <td>2249</td>\n",
       "      <td>2443</td>\n",
       "      <td>3</td>\n",
       "      <td>26.67</td>\n",
       "      <td>inactive</td>\n",
       "    </tr>\n",
       "    <tr>\n",
       "      <th>7896</th>\n",
       "      <td>119720</td>\n",
       "      <td>2156</td>\n",
       "      <td>2443</td>\n",
       "      <td>2</td>\n",
       "      <td>40.00</td>\n",
       "      <td>inactive</td>\n",
       "    </tr>\n",
       "    <tr>\n",
       "      <th>7897</th>\n",
       "      <td>119730</td>\n",
       "      <td>2443</td>\n",
       "      <td>2443</td>\n",
       "      <td>1</td>\n",
       "      <td>50.00</td>\n",
       "      <td>inactive</td>\n",
       "    </tr>\n",
       "    <tr>\n",
       "      <th>...</th>\n",
       "      <td>...</td>\n",
       "      <td>...</td>\n",
       "      <td>...</td>\n",
       "      <td>...</td>\n",
       "      <td>...</td>\n",
       "      <td>...</td>\n",
       "    </tr>\n",
       "    <tr>\n",
       "      <th>17404</th>\n",
       "      <td>252380</td>\n",
       "      <td>73</td>\n",
       "      <td>73</td>\n",
       "      <td>1</td>\n",
       "      <td>10.00</td>\n",
       "      <td>new active</td>\n",
       "    </tr>\n",
       "    <tr>\n",
       "      <th>17403</th>\n",
       "      <td>252370</td>\n",
       "      <td>73</td>\n",
       "      <td>73</td>\n",
       "      <td>1</td>\n",
       "      <td>45.00</td>\n",
       "      <td>new active</td>\n",
       "    </tr>\n",
       "    <tr>\n",
       "      <th>17402</th>\n",
       "      <td>252360</td>\n",
       "      <td>73</td>\n",
       "      <td>73</td>\n",
       "      <td>1</td>\n",
       "      <td>20.00</td>\n",
       "      <td>new active</td>\n",
       "    </tr>\n",
       "    <tr>\n",
       "      <th>17411</th>\n",
       "      <td>252450</td>\n",
       "      <td>72</td>\n",
       "      <td>72</td>\n",
       "      <td>1</td>\n",
       "      <td>45.00</td>\n",
       "      <td>new active</td>\n",
       "    </tr>\n",
       "    <tr>\n",
       "      <th>18416</th>\n",
       "      <td>264200</td>\n",
       "      <td>1</td>\n",
       "      <td>1</td>\n",
       "      <td>1</td>\n",
       "      <td>500.00</td>\n",
       "      <td>new active</td>\n",
       "    </tr>\n",
       "  </tbody>\n",
       "</table>\n",
       "<p>18417 rows × 6 columns</p>\n",
       "</div>"
      ],
      "text/plain": [
       "       customer_id  recency  first_purchase  frequency  amount     segment\n",
       "0               10     3829            3829          1   30.00    inactive\n",
       "7894        119690     1500            2443          4   30.00    inactive\n",
       "7895        119710     2249            2443          3   26.67    inactive\n",
       "7896        119720     2156            2443          2   40.00    inactive\n",
       "7897        119730     2443            2443          1   50.00    inactive\n",
       "...            ...      ...             ...        ...     ...         ...\n",
       "17404       252380       73              73          1   10.00  new active\n",
       "17403       252370       73              73          1   45.00  new active\n",
       "17402       252360       73              73          1   20.00  new active\n",
       "17411       252450       72              72          1   45.00  new active\n",
       "18416       264200        1               1          1  500.00  new active\n",
       "\n",
       "[18417 rows x 6 columns]"
      ]
     },
     "execution_count": 23,
     "metadata": {},
     "output_type": "execute_result"
    }
   ],
   "source": [
    "# Transform segment column datatype from object to category\n",
    "customers_2015[\"segment\"] = customers_2015[\"segment\"].astype(\"category\")\n",
    "# Re-order segments in a better readable way\n",
    "sorter = [\n",
    "    \"inactive\",\n",
    "    \"cold\",\n",
    "    \"warm high value\",\n",
    "    \"warm low value\",\n",
    "    \"new warm\",\n",
    "    \"active high value\",\n",
    "    \"active low value\",\n",
    "    \"new active\",\n",
    "]\n",
    "customers_2015.segment.cat.set_categories(sorter, inplace=True)\n",
    "customers_2015.sort_values([\"segment\"], inplace=True)"
   ]
  },
  {
   "cell_type": "code",
   "execution_count": 24,
   "id": "1dd9b27c",
   "metadata": {},
   "outputs": [
    {
     "data": {
      "text/html": [
       "<div>\n",
       "<style scoped>\n",
       "    .dataframe tbody tr th:only-of-type {\n",
       "        vertical-align: middle;\n",
       "    }\n",
       "\n",
       "    .dataframe tbody tr th {\n",
       "        vertical-align: top;\n",
       "    }\n",
       "\n",
       "    .dataframe thead th {\n",
       "        text-align: right;\n",
       "    }\n",
       "</style>\n",
       "<table border=\"1\" class=\"dataframe\">\n",
       "  <thead>\n",
       "    <tr style=\"text-align: right;\">\n",
       "      <th></th>\n",
       "      <th>customer_id</th>\n",
       "      <th>recency</th>\n",
       "      <th>first_purchase</th>\n",
       "      <th>frequency</th>\n",
       "      <th>amount</th>\n",
       "      <th>revenue_2015</th>\n",
       "    </tr>\n",
       "  </thead>\n",
       "  <tbody>\n",
       "    <tr>\n",
       "      <th>count</th>\n",
       "      <td>18,417.00</td>\n",
       "      <td>18,417.00</td>\n",
       "      <td>18,417.00</td>\n",
       "      <td>18,417.00</td>\n",
       "      <td>18,417.00</td>\n",
       "      <td>5,398.00</td>\n",
       "    </tr>\n",
       "    <tr>\n",
       "      <th>mean</th>\n",
       "      <td>137,573.51</td>\n",
       "      <td>1,253.04</td>\n",
       "      <td>1,984.01</td>\n",
       "      <td>2.78</td>\n",
       "      <td>57.79</td>\n",
       "      <td>88.62</td>\n",
       "    </tr>\n",
       "    <tr>\n",
       "      <th>std</th>\n",
       "      <td>69,504.60</td>\n",
       "      <td>1,081.44</td>\n",
       "      <td>1,133.41</td>\n",
       "      <td>2.94</td>\n",
       "      <td>154.36</td>\n",
       "      <td>224.36</td>\n",
       "    </tr>\n",
       "    <tr>\n",
       "      <th>min</th>\n",
       "      <td>10.00</td>\n",
       "      <td>1.00</td>\n",
       "      <td>1.00</td>\n",
       "      <td>1.00</td>\n",
       "      <td>5.00</td>\n",
       "      <td>5.00</td>\n",
       "    </tr>\n",
       "    <tr>\n",
       "      <th>25%</th>\n",
       "      <td>81,990.00</td>\n",
       "      <td>244.00</td>\n",
       "      <td>988.00</td>\n",
       "      <td>1.00</td>\n",
       "      <td>21.67</td>\n",
       "      <td>30.00</td>\n",
       "    </tr>\n",
       "    <tr>\n",
       "      <th>50%</th>\n",
       "      <td>136,430.00</td>\n",
       "      <td>1,070.00</td>\n",
       "      <td>2,087.00</td>\n",
       "      <td>2.00</td>\n",
       "      <td>30.00</td>\n",
       "      <td>50.00</td>\n",
       "    </tr>\n",
       "    <tr>\n",
       "      <th>75%</th>\n",
       "      <td>195,100.00</td>\n",
       "      <td>2,130.00</td>\n",
       "      <td>2,992.00</td>\n",
       "      <td>3.00</td>\n",
       "      <td>50.00</td>\n",
       "      <td>85.00</td>\n",
       "    </tr>\n",
       "    <tr>\n",
       "      <th>max</th>\n",
       "      <td>264,200.00</td>\n",
       "      <td>4,014.00</td>\n",
       "      <td>4,016.00</td>\n",
       "      <td>45.00</td>\n",
       "      <td>4,500.00</td>\n",
       "      <td>4,500.00</td>\n",
       "    </tr>\n",
       "  </tbody>\n",
       "</table>\n",
       "</div>"
      ],
      "text/plain": [
       "       customer_id   recency  first_purchase  frequency    amount  \\\n",
       "count    18,417.00 18,417.00       18,417.00  18,417.00 18,417.00   \n",
       "mean    137,573.51  1,253.04        1,984.01       2.78     57.79   \n",
       "std      69,504.60  1,081.44        1,133.41       2.94    154.36   \n",
       "min          10.00      1.00            1.00       1.00      5.00   \n",
       "25%      81,990.00    244.00          988.00       1.00     21.67   \n",
       "50%     136,430.00  1,070.00        2,087.00       2.00     30.00   \n",
       "75%     195,100.00  2,130.00        2,992.00       3.00     50.00   \n",
       "max     264,200.00  4,014.00        4,016.00      45.00  4,500.00   \n",
       "\n",
       "       revenue_2015  \n",
       "count      5,398.00  \n",
       "mean          88.62  \n",
       "std          224.36  \n",
       "min            5.00  \n",
       "25%           30.00  \n",
       "50%           50.00  \n",
       "75%           85.00  \n",
       "max        4,500.00  "
      ]
     },
     "execution_count": 24,
     "metadata": {},
     "output_type": "execute_result"
    }
   ],
   "source": [
    "# Merge 2015 customers and 2015 revenue, while making sure that customers\n",
    "# without purchase in 2015 also appear in the new df\n",
    "actual = customers_2015.merge(revenue_2015, how=\"left\", on=\"customer_id\")\n",
    "actual.describe()"
   ]
  },
  {
   "cell_type": "code",
   "execution_count": 25,
   "id": "42409e46",
   "metadata": {},
   "outputs": [
    {
     "data": {
      "text/html": [
       "<div>\n",
       "<style scoped>\n",
       "    .dataframe tbody tr th:only-of-type {\n",
       "        vertical-align: middle;\n",
       "    }\n",
       "\n",
       "    .dataframe tbody tr th {\n",
       "        vertical-align: top;\n",
       "    }\n",
       "\n",
       "    .dataframe thead th {\n",
       "        text-align: right;\n",
       "    }\n",
       "</style>\n",
       "<table border=\"1\" class=\"dataframe\">\n",
       "  <thead>\n",
       "    <tr style=\"text-align: right;\">\n",
       "      <th></th>\n",
       "      <th>customer_id</th>\n",
       "      <th>recency</th>\n",
       "      <th>first_purchase</th>\n",
       "      <th>frequency</th>\n",
       "      <th>amount</th>\n",
       "      <th>segment</th>\n",
       "      <th>revenue_2015</th>\n",
       "    </tr>\n",
       "  </thead>\n",
       "  <tbody>\n",
       "    <tr>\n",
       "      <th>0</th>\n",
       "      <td>10</td>\n",
       "      <td>3829</td>\n",
       "      <td>3829</td>\n",
       "      <td>1</td>\n",
       "      <td>30.00</td>\n",
       "      <td>inactive</td>\n",
       "      <td>NaN</td>\n",
       "    </tr>\n",
       "    <tr>\n",
       "      <th>1</th>\n",
       "      <td>80</td>\n",
       "      <td>343</td>\n",
       "      <td>3751</td>\n",
       "      <td>7</td>\n",
       "      <td>71.43</td>\n",
       "      <td>active low value</td>\n",
       "      <td>80.00</td>\n",
       "    </tr>\n",
       "    <tr>\n",
       "      <th>2</th>\n",
       "      <td>90</td>\n",
       "      <td>758</td>\n",
       "      <td>3783</td>\n",
       "      <td>10</td>\n",
       "      <td>115.80</td>\n",
       "      <td>cold</td>\n",
       "      <td>NaN</td>\n",
       "    </tr>\n",
       "    <tr>\n",
       "      <th>3</th>\n",
       "      <td>120</td>\n",
       "      <td>1401</td>\n",
       "      <td>1401</td>\n",
       "      <td>1</td>\n",
       "      <td>20.00</td>\n",
       "      <td>inactive</td>\n",
       "      <td>NaN</td>\n",
       "    </tr>\n",
       "    <tr>\n",
       "      <th>4</th>\n",
       "      <td>130</td>\n",
       "      <td>2970</td>\n",
       "      <td>3710</td>\n",
       "      <td>2</td>\n",
       "      <td>50.00</td>\n",
       "      <td>inactive</td>\n",
       "      <td>NaN</td>\n",
       "    </tr>\n",
       "  </tbody>\n",
       "</table>\n",
       "</div>"
      ],
      "text/plain": [
       "   customer_id  recency  first_purchase  frequency  amount           segment  \\\n",
       "0           10     3829            3829          1   30.00          inactive   \n",
       "1           80      343            3751          7   71.43  active low value   \n",
       "2           90      758            3783         10  115.80              cold   \n",
       "3          120     1401            1401          1   20.00          inactive   \n",
       "4          130     2970            3710          2   50.00          inactive   \n",
       "\n",
       "   revenue_2015  \n",
       "0           NaN  \n",
       "1         80.00  \n",
       "2           NaN  \n",
       "3           NaN  \n",
       "4           NaN  "
      ]
     },
     "execution_count": 25,
     "metadata": {},
     "output_type": "execute_result"
    }
   ],
   "source": [
    "actual.head()"
   ]
  },
  {
   "cell_type": "code",
   "execution_count": 26,
   "id": "8d9e96dd",
   "metadata": {},
   "outputs": [
    {
     "data": {
      "text/html": [
       "<div>\n",
       "<style scoped>\n",
       "    .dataframe tbody tr th:only-of-type {\n",
       "        vertical-align: middle;\n",
       "    }\n",
       "\n",
       "    .dataframe tbody tr th {\n",
       "        vertical-align: top;\n",
       "    }\n",
       "\n",
       "    .dataframe thead th {\n",
       "        text-align: right;\n",
       "    }\n",
       "</style>\n",
       "<table border=\"1\" class=\"dataframe\">\n",
       "  <thead>\n",
       "    <tr style=\"text-align: right;\">\n",
       "      <th></th>\n",
       "      <th>customer_id</th>\n",
       "      <th>recency</th>\n",
       "      <th>first_purchase</th>\n",
       "      <th>frequency</th>\n",
       "      <th>amount</th>\n",
       "      <th>segment</th>\n",
       "      <th>revenue_2015</th>\n",
       "    </tr>\n",
       "  </thead>\n",
       "  <tbody>\n",
       "    <tr>\n",
       "      <th>0</th>\n",
       "      <td>10</td>\n",
       "      <td>3829</td>\n",
       "      <td>3829</td>\n",
       "      <td>1</td>\n",
       "      <td>30.00</td>\n",
       "      <td>inactive</td>\n",
       "      <td>0.00</td>\n",
       "    </tr>\n",
       "    <tr>\n",
       "      <th>1</th>\n",
       "      <td>80</td>\n",
       "      <td>343</td>\n",
       "      <td>3751</td>\n",
       "      <td>7</td>\n",
       "      <td>71.43</td>\n",
       "      <td>active low value</td>\n",
       "      <td>80.00</td>\n",
       "    </tr>\n",
       "    <tr>\n",
       "      <th>2</th>\n",
       "      <td>90</td>\n",
       "      <td>758</td>\n",
       "      <td>3783</td>\n",
       "      <td>10</td>\n",
       "      <td>115.80</td>\n",
       "      <td>cold</td>\n",
       "      <td>0.00</td>\n",
       "    </tr>\n",
       "    <tr>\n",
       "      <th>3</th>\n",
       "      <td>120</td>\n",
       "      <td>1401</td>\n",
       "      <td>1401</td>\n",
       "      <td>1</td>\n",
       "      <td>20.00</td>\n",
       "      <td>inactive</td>\n",
       "      <td>0.00</td>\n",
       "    </tr>\n",
       "    <tr>\n",
       "      <th>4</th>\n",
       "      <td>130</td>\n",
       "      <td>2970</td>\n",
       "      <td>3710</td>\n",
       "      <td>2</td>\n",
       "      <td>50.00</td>\n",
       "      <td>inactive</td>\n",
       "      <td>0.00</td>\n",
       "    </tr>\n",
       "  </tbody>\n",
       "</table>\n",
       "</div>"
      ],
      "text/plain": [
       "   customer_id  recency  first_purchase  frequency  amount           segment  \\\n",
       "0           10     3829            3829          1   30.00          inactive   \n",
       "1           80      343            3751          7   71.43  active low value   \n",
       "2           90      758            3783         10  115.80              cold   \n",
       "3          120     1401            1401          1   20.00          inactive   \n",
       "4          130     2970            3710          2   50.00          inactive   \n",
       "\n",
       "   revenue_2015  \n",
       "0          0.00  \n",
       "1         80.00  \n",
       "2          0.00  \n",
       "3          0.00  \n",
       "4          0.00  "
      ]
     },
     "execution_count": 26,
     "metadata": {},
     "output_type": "execute_result"
    }
   ],
   "source": [
    "# Replace NaNs in the revenus_2015 column with 0s\n",
    "actual[\"revenue_2015\"].fillna(0, inplace=True)\n",
    "actual.head()"
   ]
  },
  {
   "cell_type": "code",
   "execution_count": 27,
   "id": "f7b44c6d",
   "metadata": {},
   "outputs": [
    {
     "data": {
      "text/html": [
       "<div>\n",
       "<style scoped>\n",
       "    .dataframe tbody tr th:only-of-type {\n",
       "        vertical-align: middle;\n",
       "    }\n",
       "\n",
       "    .dataframe tbody tr th {\n",
       "        vertical-align: top;\n",
       "    }\n",
       "\n",
       "    .dataframe thead th {\n",
       "        text-align: right;\n",
       "    }\n",
       "</style>\n",
       "<table border=\"1\" class=\"dataframe\">\n",
       "  <thead>\n",
       "    <tr style=\"text-align: right;\">\n",
       "      <th></th>\n",
       "      <th>revenue_2015</th>\n",
       "    </tr>\n",
       "    <tr>\n",
       "      <th>segment</th>\n",
       "      <th></th>\n",
       "    </tr>\n",
       "  </thead>\n",
       "  <tbody>\n",
       "    <tr>\n",
       "      <th>inactive</th>\n",
       "      <td>0.00</td>\n",
       "    </tr>\n",
       "    <tr>\n",
       "      <th>cold</th>\n",
       "      <td>0.00</td>\n",
       "    </tr>\n",
       "    <tr>\n",
       "      <th>warm high value</th>\n",
       "      <td>0.00</td>\n",
       "    </tr>\n",
       "    <tr>\n",
       "      <th>warm low value</th>\n",
       "      <td>0.00</td>\n",
       "    </tr>\n",
       "    <tr>\n",
       "      <th>new warm</th>\n",
       "      <td>0.00</td>\n",
       "    </tr>\n",
       "    <tr>\n",
       "      <th>active high value</th>\n",
       "      <td>323.57</td>\n",
       "    </tr>\n",
       "    <tr>\n",
       "      <th>active low value</th>\n",
       "      <td>52.31</td>\n",
       "    </tr>\n",
       "    <tr>\n",
       "      <th>new active</th>\n",
       "      <td>79.17</td>\n",
       "    </tr>\n",
       "  </tbody>\n",
       "</table>\n",
       "</div>"
      ],
      "text/plain": [
       "                   revenue_2015\n",
       "segment                        \n",
       "inactive                   0.00\n",
       "cold                       0.00\n",
       "warm high value            0.00\n",
       "warm low value             0.00\n",
       "new warm                   0.00\n",
       "active high value        323.57\n",
       "active low value          52.31\n",
       "new active                79.17"
      ]
     },
     "execution_count": 27,
     "metadata": {},
     "output_type": "execute_result"
    }
   ],
   "source": [
    "actual[[\"revenue_2015\", \"segment\"]].groupby(\"segment\").mean()"
   ]
  },
  {
   "cell_type": "markdown",
   "id": "532846ab",
   "metadata": {},
   "source": [
    "By definition inactive, warm and cold didn't generate any revenue in the same year we are investigating. That's why the 0.00 in these rows."
   ]
  },
  {
   "cell_type": "markdown",
   "id": "c2ae8c26",
   "metadata": {},
   "source": [
    "## Computing Predictors and Target Variables\n",
    "\n"
   ]
  },
  {
   "cell_type": "code",
   "execution_count": 28,
   "id": "51225de6",
   "metadata": {},
   "outputs": [
    {
     "data": {
      "text/html": [
       "<div>\n",
       "<style scoped>\n",
       "    .dataframe tbody tr th:only-of-type {\n",
       "        vertical-align: middle;\n",
       "    }\n",
       "\n",
       "    .dataframe tbody tr th {\n",
       "        vertical-align: top;\n",
       "    }\n",
       "\n",
       "    .dataframe thead th {\n",
       "        text-align: right;\n",
       "    }\n",
       "</style>\n",
       "<table border=\"1\" class=\"dataframe\">\n",
       "  <thead>\n",
       "    <tr style=\"text-align: right;\">\n",
       "      <th></th>\n",
       "      <th>customer_id</th>\n",
       "      <th>recency</th>\n",
       "      <th>first_purchase</th>\n",
       "      <th>frequency</th>\n",
       "      <th>amount</th>\n",
       "      <th>segment</th>\n",
       "      <th>revenue_2015</th>\n",
       "    </tr>\n",
       "  </thead>\n",
       "  <tbody>\n",
       "    <tr>\n",
       "      <th>0</th>\n",
       "      <td>10</td>\n",
       "      <td>3464</td>\n",
       "      <td>3464</td>\n",
       "      <td>1</td>\n",
       "      <td>30.00</td>\n",
       "      <td>inactive</td>\n",
       "      <td>NaN</td>\n",
       "    </tr>\n",
       "    <tr>\n",
       "      <th>1</th>\n",
       "      <td>80</td>\n",
       "      <td>302</td>\n",
       "      <td>3386</td>\n",
       "      <td>6</td>\n",
       "      <td>70.00</td>\n",
       "      <td>active low value</td>\n",
       "      <td>80.00</td>\n",
       "    </tr>\n",
       "    <tr>\n",
       "      <th>2</th>\n",
       "      <td>90</td>\n",
       "      <td>393</td>\n",
       "      <td>3418</td>\n",
       "      <td>10</td>\n",
       "      <td>115.80</td>\n",
       "      <td>warm high value</td>\n",
       "      <td>NaN</td>\n",
       "    </tr>\n",
       "    <tr>\n",
       "      <th>3</th>\n",
       "      <td>120</td>\n",
       "      <td>1036</td>\n",
       "      <td>1036</td>\n",
       "      <td>1</td>\n",
       "      <td>20.00</td>\n",
       "      <td>cold</td>\n",
       "      <td>NaN</td>\n",
       "    </tr>\n",
       "    <tr>\n",
       "      <th>4</th>\n",
       "      <td>130</td>\n",
       "      <td>2605</td>\n",
       "      <td>3345</td>\n",
       "      <td>2</td>\n",
       "      <td>50.00</td>\n",
       "      <td>inactive</td>\n",
       "      <td>NaN</td>\n",
       "    </tr>\n",
       "  </tbody>\n",
       "</table>\n",
       "</div>"
      ],
      "text/plain": [
       "   customer_id  recency  first_purchase  frequency  amount           segment  \\\n",
       "0           10     3464            3464          1   30.00          inactive   \n",
       "1           80      302            3386          6   70.00  active low value   \n",
       "2           90      393            3418         10  115.80   warm high value   \n",
       "3          120     1036            1036          1   20.00              cold   \n",
       "4          130     2605            3345          2   50.00          inactive   \n",
       "\n",
       "   revenue_2015  \n",
       "0           NaN  \n",
       "1         80.00  \n",
       "2           NaN  \n",
       "3           NaN  \n",
       "4           NaN  "
      ]
     },
     "execution_count": 28,
     "metadata": {},
     "output_type": "execute_result"
    }
   ],
   "source": [
    "# Merge 2014 customers and 2015 revenue\n",
    "forward = customers_2014.merge(revenue_2015, how=\"left\", on=\"customer_id\")\n",
    "forward.head()"
   ]
  },
  {
   "cell_type": "code",
   "execution_count": 29,
   "id": "a31fda9b",
   "metadata": {},
   "outputs": [],
   "source": [
    "# Replace NaNs in the revenus_2015 column with 0s\n",
    "forward[\"revenue_2015\"].fillna(0, inplace=True)"
   ]
  },
  {
   "cell_type": "code",
   "execution_count": 30,
   "id": "cda6ced3",
   "metadata": {},
   "outputs": [],
   "source": [
    "r = forward[[\"revenue_2015\", \"segment\"]].groupby(\"segment\").mean()"
   ]
  },
  {
   "cell_type": "code",
   "execution_count": 31,
   "id": "6b83becf",
   "metadata": {},
   "outputs": [],
   "source": [
    "r.sort_values(by=[\"revenue_2015\"], ascending=False, inplace=True)"
   ]
  },
  {
   "cell_type": "code",
   "execution_count": 32,
   "id": "31bd57c8",
   "metadata": {},
   "outputs": [
    {
     "data": {
      "text/plain": [
       "<AxesSubplot:xlabel='segment'>"
      ]
     },
     "execution_count": 32,
     "metadata": {},
     "output_type": "execute_result"
    },
    {
     "data": {
      "image/png": "[encoded data removed]",
      "text/plain": [
       "<Figure size 720x576 with 1 Axes>"
      ]
     },
     "metadata": {
      "needs_background": "light"
     },
     "output_type": "display_data"
    }
   ],
   "source": [
    "r.plot.bar()"
   ]
  },
  {
   "cell_type": "markdown",
   "id": "89602ac2",
   "metadata": {},
   "source": [
    "As we can see, customers classified as \"active high value\" in 2014 are the most revenue generating in 2015 and in the second place comes customers from the \"warm high value\""
   ]
  },
  {
   "cell_type": "markdown",
   "id": "f096303d",
   "metadata": {},
   "source": [
    "## Quiz"
   ]
  },
  {
   "cell_type": "code",
   "execution_count": 33,
   "id": "08c6b816",
   "metadata": {},
   "outputs": [
    {
     "data": {
      "text/plain": [
       "inactive             9158\n",
       "active low value     3313\n",
       "cold                 1903\n",
       "new active           1512\n",
       "new warm              938\n",
       "warm low value        901\n",
       "active high value     573\n",
       "warm high value       119\n",
       "Name: segment, dtype: int64"
      ]
     },
     "execution_count": 33,
     "metadata": {},
     "output_type": "execute_result"
    }
   ],
   "source": [
    "actual[\"segment\"].value_counts()"
   ]
  },
  {
   "cell_type": "code",
   "execution_count": 34,
   "id": "e2da0ff5",
   "metadata": {},
   "outputs": [
    {
     "data": {
      "text/plain": [
       "3313"
      ]
     },
     "execution_count": 34,
     "metadata": {},
     "output_type": "execute_result"
    }
   ],
   "source": [
    "# How many \"new active low\" (active low value) customers were there in 2015?\n",
    "\n",
    "(actual[\"segment\"] == \"active low value\").sum()"
   ]
  },
  {
   "cell_type": "code",
   "execution_count": 35,
   "id": "c788b1e3",
   "metadata": {},
   "outputs": [
    {
     "name": "stdout",
     "output_type": "stream",
     "text": [
      "20.63\n"
     ]
    }
   ],
   "source": [
    "# The number of \"new active high\" customers has increased between 2014 and 2015.\n",
    "# What is the rate of that increase?\n",
    "\n",
    "ne = (customers_2015[\"segment\"] == \"active high value\").sum()\n",
    "ol = (customers_2014[\"segment\"] == \"active high value\").sum()\n",
    "\n",
    "print(\"%.2f\" % ((ne - ol) / ol * 100))"
   ]
  },
  {
   "cell_type": "code",
   "execution_count": 36,
   "id": "8afb9528",
   "metadata": {},
   "outputs": [
    {
     "name": "stdout",
     "output_type": "stream",
     "text": [
      "20.63\n"
     ]
    }
   ],
   "source": [
    "print(\"{:.2f}\".format((ne - ol) / ol * 100))"
   ]
  },
  {
   "cell_type": "code",
   "execution_count": 37,
   "id": "2509c966",
   "metadata": {},
   "outputs": [
    {
     "name": "stdout",
     "output_type": "stream",
     "text": [
      "20.63157894736842\n"
     ]
    }
   ],
   "source": [
    "print(f\"{(ne - ol)/ol * 100}\")"
   ]
  },
  {
   "cell_type": "markdown",
   "id": "557ae6d2",
   "metadata": {},
   "source": [
    "# Building a Predictive Model"
   ]
  },
  {
   "cell_type": "code",
   "execution_count": 38,
   "id": "c503d03a",
   "metadata": {},
   "outputs": [],
   "source": [
    "q = \"\"\"\n",
    "        SELECT customer_id, \n",
    "        MIN(days_since) - 365 AS 'recency', \n",
    "        MAX(days_since) - 365 AS 'first_purchase', \n",
    "        COUNT(*) AS 'frequency', \n",
    "        AVG(purchase_amount) AS 'avg_amount', \n",
    "        MAX(purchase_amount) AS 'max_amount' \n",
    "        FROM df WHERE days_since > 365 GROUP BY 1\n",
    "\"\"\"\n",
    "customers_2014 = sqldf(q, globals())"
   ]
  },
  {
   "cell_type": "code",
   "execution_count": 39,
   "id": "cba2d715",
   "metadata": {},
   "outputs": [],
   "source": [
    "q = \"\"\"\n",
    "        SELECT customer_id, \n",
    "        SUM(purchase_amount) AS 'revenue_2015' \n",
    "        FROM df WHERE year_of_purchase = 2015 \n",
    "        GROUP BY 1\n",
    "\"\"\"\n",
    "revenue_2015 = sqldf(q, globals())"
   ]
  },
  {
   "cell_type": "code",
   "execution_count": 40,
   "id": "6de8fe90",
   "metadata": {},
   "outputs": [],
   "source": [
    "# Merge 2014 customers with 2015 revenue\n",
    "in_sample = customers_2014.merge(revenue_2015, how=\"left\", on=\"customer_id\")\n",
    "in_sample[\"revenue_2015\"].fillna(0, inplace=True)\n",
    "in_sample.loc[in_sample[\"revenue_2015\"] > 0, \"active_2015\"] = 1"
   ]
  },
  {
   "cell_type": "code",
   "execution_count": 41,
   "id": "90b312d7",
   "metadata": {},
   "outputs": [
    {
     "name": "stdout",
     "output_type": "stream",
     "text": [
      "<class 'pandas.core.frame.DataFrame'>\n",
      "Int64Index: 16905 entries, 0 to 16904\n",
      "Data columns (total 8 columns):\n",
      " #   Column          Non-Null Count  Dtype  \n",
      "---  ------          --------------  -----  \n",
      " 0   customer_id     16905 non-null  int64  \n",
      " 1   recency         16905 non-null  int64  \n",
      " 2   first_purchase  16905 non-null  int64  \n",
      " 3   frequency       16905 non-null  int64  \n",
      " 4   avg_amount      16905 non-null  float64\n",
      " 5   max_amount      16905 non-null  float64\n",
      " 6   revenue_2015    16905 non-null  float64\n",
      " 7   active_2015     16905 non-null  int64  \n",
      "dtypes: float64(3), int64(5)\n",
      "memory usage: 1.2 MB\n"
     ]
    }
   ],
   "source": [
    "in_sample[\"active_2015\"].fillna(0, inplace=True)\n",
    "in_sample[\"active_2015\"] = in_sample[\"active_2015\"].astype(\"int\")\n",
    "in_sample.info()"
   ]
  },
  {
   "cell_type": "markdown",
   "id": "776738a4",
   "metadata": {},
   "source": [
    "------"
   ]
  },
  {
   "cell_type": "markdown",
   "id": "03234b13",
   "metadata": {},
   "source": [
    "## The Likelihood a Customer will be Active in 2015"
   ]
  },
  {
   "cell_type": "markdown",
   "id": "da74d598",
   "metadata": {},
   "source": [
    "Now, we are going to calibrate the first model, which is the probability model. The likelihood that a customer we'd be active in 2015 or not. \n",
    "\n",
    "* the output of the model which I call prob dot model is the output of the Multinom function with formula that states that active 2015 is a function of recency first purchase as frequency, average amount and maximum amount.\n",
    "* And the data is the data we created the calibration data called In sample.\n",
    "\n",
    "These will fit, calibrate the entire model on the data set. And then we can going to extract the coefficients and the standard deviations of these coefficients, and output not only the coefficients, the standard deviations, but the ratio of those as well."
   ]
  },
  {
   "cell_type": "code",
   "execution_count": 42,
   "id": "0d0a5bce",
   "metadata": {},
   "outputs": [
    {
     "name": "stdout",
     "output_type": "stream",
     "text": [
      "Optimization terminated successfully.\n",
      "         Current function value: 0.365836\n",
      "         Iterations 8\n"
     ]
    }
   ],
   "source": [
    "# We use the Logit function since the output could be either 0 or 1\n",
    "prob_model = sm.Logit.from_formula(\n",
    "    \"active_2015 ~ recency + first_purchase + frequency + avg_amount + max_amount\",\n",
    "    in_sample,\n",
    ")\n",
    "prob_model_fit = prob_model.fit()\n",
    "coef = prob_model_fit.params\n",
    "std = prob_model_fit.bse"
   ]
  },
  {
   "cell_type": "code",
   "execution_count": 43,
   "id": "899b8322",
   "metadata": {},
   "outputs": [
    {
     "name": "stdout",
     "output_type": "stream",
     "text": [
      "Intercept        -0.53\n",
      "recency          -0.00\n",
      "first_purchase   -0.00\n",
      "frequency         0.22\n",
      "avg_amount        0.00\n",
      "max_amount       -0.00\n",
      "dtype: float64\n"
     ]
    }
   ],
   "source": [
    "print(coef)"
   ]
  },
  {
   "cell_type": "code",
   "execution_count": 44,
   "id": "ad203526",
   "metadata": {},
   "outputs": [
    {
     "name": "stdout",
     "output_type": "stream",
     "text": [
      "Intercept        0.04\n",
      "recency          0.00\n",
      "first_purchase   0.00\n",
      "frequency        0.01\n",
      "avg_amount       0.00\n",
      "max_amount       0.00\n",
      "dtype: float64\n"
     ]
    }
   ],
   "source": [
    "print(std)"
   ]
  },
  {
   "cell_type": "code",
   "execution_count": 45,
   "id": "bfd4b466",
   "metadata": {},
   "outputs": [
    {
     "name": "stdout",
     "output_type": "stream",
     "text": [
      "Intercept        -12.09\n",
      "recency          -32.75\n",
      "first_purchase    -0.30\n",
      "frequency         14.84\n",
      "avg_amount         1.14\n",
      "max_amount        -0.57\n",
      "dtype: float64\n"
     ]
    }
   ],
   "source": [
    "print(coef / std)"
   ]
  },
  {
   "cell_type": "markdown",
   "id": "c53c5a71",
   "metadata": {},
   "source": [
    "The model converged! 👍\n",
    "\n",
    "The recency parameter, for instance, it's negative. Which makes perfect sense. The larger the recency, meaning the more days have lapsed between the last purchase and today, the less likely you're going to make any other purchase in the future.\n",
    "\n",
    "So, if your last purchase was three four ten years ago, it's extremely unlikely that you'll make any purchase very soon. Meaning that the sign of the primary is negative, the higher the recency, the lower the probability.\n",
    "\n",
    "if you look at frequency, that primary is positive. Meaning that the more purchases you've made in the past, the more likely you'll make additional purchases in the future, which makes perfect sense. Now, these two parameter values are the most interesting, simply because if you look at standard deviations and at the ratio between coefficients and standard deviation, which usually indicate to what extent each parameter value is significant, or not. If it's above two, or below minus two, usually it's a good sign, and as you can see here, recently is huge, minus 32"
   ]
  },
  {
   "cell_type": "markdown",
   "id": "9de50685",
   "metadata": {},
   "source": [
    "## Monetary Prediction Model\n",
    "\n"
   ]
  },
  {
   "cell_type": "code",
   "execution_count": 46,
   "id": "d3ce7bd4",
   "metadata": {},
   "outputs": [],
   "source": [
    "# For the monetary model, we select only those who made a purchase\n",
    "# Only the index are enough\n",
    "z = in_sample[in_sample[\"active_2015\"] == 1].index.tolist()"
   ]
  },
  {
   "cell_type": "code",
   "execution_count": 47,
   "id": "ac309d93",
   "metadata": {},
   "outputs": [
    {
     "data": {
      "text/plain": [
       "[1, 17, 29, 30, 31]"
      ]
     },
     "execution_count": 47,
     "metadata": {},
     "output_type": "execute_result"
    }
   ],
   "source": [
    "z[:5]"
   ]
  },
  {
   "cell_type": "code",
   "execution_count": 48,
   "id": "277d102e",
   "metadata": {},
   "outputs": [
    {
     "data": {
      "text/html": [
       "<div>\n",
       "<style scoped>\n",
       "    .dataframe tbody tr th:only-of-type {\n",
       "        vertical-align: middle;\n",
       "    }\n",
       "\n",
       "    .dataframe tbody tr th {\n",
       "        vertical-align: top;\n",
       "    }\n",
       "\n",
       "    .dataframe thead th {\n",
       "        text-align: right;\n",
       "    }\n",
       "</style>\n",
       "<table border=\"1\" class=\"dataframe\">\n",
       "  <thead>\n",
       "    <tr style=\"text-align: right;\">\n",
       "      <th></th>\n",
       "      <th>customer_id</th>\n",
       "      <th>recency</th>\n",
       "      <th>first_purchase</th>\n",
       "      <th>frequency</th>\n",
       "      <th>avg_amount</th>\n",
       "      <th>max_amount</th>\n",
       "      <th>revenue_2015</th>\n",
       "      <th>active_2015</th>\n",
       "    </tr>\n",
       "  </thead>\n",
       "  <tbody>\n",
       "    <tr>\n",
       "      <th>count</th>\n",
       "      <td>3,886.00</td>\n",
       "      <td>3,886.00</td>\n",
       "      <td>3,886.00</td>\n",
       "      <td>3,886.00</td>\n",
       "      <td>3,886.00</td>\n",
       "      <td>3,886.00</td>\n",
       "      <td>3,886.00</td>\n",
       "      <td>3,886.00</td>\n",
       "    </tr>\n",
       "    <tr>\n",
       "      <th>mean</th>\n",
       "      <td>134,906.97</td>\n",
       "      <td>306.35</td>\n",
       "      <td>1,636.16</td>\n",
       "      <td>4.74</td>\n",
       "      <td>67.78</td>\n",
       "      <td>88.33</td>\n",
       "      <td>92.30</td>\n",
       "      <td>1.00</td>\n",
       "    </tr>\n",
       "    <tr>\n",
       "      <th>std</th>\n",
       "      <td>68,404.30</td>\n",
       "      <td>519.46</td>\n",
       "      <td>1,101.25</td>\n",
       "      <td>3.79</td>\n",
       "      <td>160.06</td>\n",
       "      <td>222.15</td>\n",
       "      <td>217.45</td>\n",
       "      <td>0.00</td>\n",
       "    </tr>\n",
       "    <tr>\n",
       "      <th>min</th>\n",
       "      <td>80.00</td>\n",
       "      <td>1.00</td>\n",
       "      <td>1.00</td>\n",
       "      <td>1.00</td>\n",
       "      <td>5.00</td>\n",
       "      <td>5.00</td>\n",
       "      <td>5.00</td>\n",
       "      <td>1.00</td>\n",
       "    </tr>\n",
       "    <tr>\n",
       "      <th>25%</th>\n",
       "      <td>78,590.00</td>\n",
       "      <td>23.00</td>\n",
       "      <td>649.75</td>\n",
       "      <td>2.00</td>\n",
       "      <td>30.00</td>\n",
       "      <td>30.00</td>\n",
       "      <td>30.00</td>\n",
       "      <td>1.00</td>\n",
       "    </tr>\n",
       "    <tr>\n",
       "      <th>50%</th>\n",
       "      <td>143,550.00</td>\n",
       "      <td>97.00</td>\n",
       "      <td>1,604.00</td>\n",
       "      <td>4.00</td>\n",
       "      <td>40.00</td>\n",
       "      <td>50.00</td>\n",
       "      <td>50.00</td>\n",
       "      <td>1.00</td>\n",
       "    </tr>\n",
       "    <tr>\n",
       "      <th>75%</th>\n",
       "      <td>194,362.50</td>\n",
       "      <td>328.00</td>\n",
       "      <td>2,666.00</td>\n",
       "      <td>7.00</td>\n",
       "      <td>60.00</td>\n",
       "      <td>80.00</td>\n",
       "      <td>100.00</td>\n",
       "      <td>1.00</td>\n",
       "    </tr>\n",
       "    <tr>\n",
       "      <th>max</th>\n",
       "      <td>236,660.00</td>\n",
       "      <td>3,544.00</td>\n",
       "      <td>3,647.00</td>\n",
       "      <td>40.00</td>\n",
       "      <td>4,500.00</td>\n",
       "      <td>4,500.00</td>\n",
       "      <td>4,500.00</td>\n",
       "      <td>1.00</td>\n",
       "    </tr>\n",
       "  </tbody>\n",
       "</table>\n",
       "</div>"
      ],
      "text/plain": [
       "       customer_id  recency  first_purchase  frequency  avg_amount  \\\n",
       "count     3,886.00 3,886.00        3,886.00   3,886.00    3,886.00   \n",
       "mean    134,906.97   306.35        1,636.16       4.74       67.78   \n",
       "std      68,404.30   519.46        1,101.25       3.79      160.06   \n",
       "min          80.00     1.00            1.00       1.00        5.00   \n",
       "25%      78,590.00    23.00          649.75       2.00       30.00   \n",
       "50%     143,550.00    97.00        1,604.00       4.00       40.00   \n",
       "75%     194,362.50   328.00        2,666.00       7.00       60.00   \n",
       "max     236,660.00 3,544.00        3,647.00      40.00    4,500.00   \n",
       "\n",
       "       max_amount  revenue_2015  active_2015  \n",
       "count    3,886.00      3,886.00     3,886.00  \n",
       "mean        88.33         92.30         1.00  \n",
       "std        222.15        217.45         0.00  \n",
       "min          5.00          5.00         1.00  \n",
       "25%         30.00         30.00         1.00  \n",
       "50%         50.00         50.00         1.00  \n",
       "75%         80.00        100.00         1.00  \n",
       "max      4,500.00      4,500.00         1.00  "
      ]
     },
     "execution_count": 48,
     "metadata": {},
     "output_type": "execute_result"
    }
   ],
   "source": [
    "in_sample.loc[z].describe()"
   ]
  },
  {
   "cell_type": "markdown",
   "id": "87c39021",
   "metadata": {},
   "source": [
    "We only have active customers in there. In terms of revenue, customers have spent anything between \\\\$5 and \\\\$4500 with that retailer of the year 2015. Now, what you are going to do is calibrate the monetary model. Meaning we begin to predict how much they spend in 2015 based on only two things here, the average amount they spend usually, and the maximum amount they spend. So we have two different predictors."
   ]
  },
  {
   "cell_type": "markdown",
   "id": "2e94064f",
   "metadata": {},
   "source": [
    "SM, which stands for Linear Model, will fit a linear model to match as closely as we can revenue 2015 based on the predictor's average amount and maximum amount. And the data here is not the entire sample, but only those customers who can be found in the index, Z here. So only those customers who actually spend something."
   ]
  },
  {
   "cell_type": "code",
   "execution_count": 49,
   "id": "a2da547b",
   "metadata": {},
   "outputs": [
    {
     "data": {
      "text/html": [
       "<table class=\"simpletable\">\n",
       "<caption>OLS Regression Results</caption>\n",
       "<tr>\n",
       "  <th>Dep. Variable:</th>      <td>revenue_2015</td>   <th>  R-squared:         </th> <td>   0.605</td> \n",
       "</tr>\n",
       "<tr>\n",
       "  <th>Model:</th>                   <td>OLS</td>       <th>  Adj. R-squared:    </th> <td>   0.605</td> \n",
       "</tr>\n",
       "<tr>\n",
       "  <th>Method:</th>             <td>Least Squares</td>  <th>  F-statistic:       </th> <td>   2979.</td> \n",
       "</tr>\n",
       "<tr>\n",
       "  <th>Date:</th>             <td>Thu, 22 Apr 2021</td> <th>  Prob (F-statistic):</th>  <td>  0.00</td>  \n",
       "</tr>\n",
       "<tr>\n",
       "  <th>Time:</th>                 <td>15:00:27</td>     <th>  Log-Likelihood:    </th> <td> -24621.</td> \n",
       "</tr>\n",
       "<tr>\n",
       "  <th>No. Observations:</th>      <td>  3886</td>      <th>  AIC:               </th> <td>4.925e+04</td>\n",
       "</tr>\n",
       "<tr>\n",
       "  <th>Df Residuals:</th>          <td>  3883</td>      <th>  BIC:               </th> <td>4.927e+04</td>\n",
       "</tr>\n",
       "<tr>\n",
       "  <th>Df Model:</th>              <td>     2</td>      <th>                     </th>     <td> </td>    \n",
       "</tr>\n",
       "<tr>\n",
       "  <th>Covariance Type:</th>      <td>nonrobust</td>    <th>                     </th>     <td> </td>    \n",
       "</tr>\n",
       "</table>\n",
       "<table class=\"simpletable\">\n",
       "<tr>\n",
       "       <td></td>         <th>coef</th>     <th>std err</th>      <th>t</th>      <th>P>|t|</th>  <th>[0.025</th>    <th>0.975]</th>  \n",
       "</tr>\n",
       "<tr>\n",
       "  <th>Intercept</th>  <td>   20.7471</td> <td>    2.381</td> <td>    8.713</td> <td> 0.000</td> <td>   16.079</td> <td>   25.415</td>\n",
       "</tr>\n",
       "<tr>\n",
       "  <th>avg_amount</th> <td>    0.6749</td> <td>    0.033</td> <td>   20.575</td> <td> 0.000</td> <td>    0.611</td> <td>    0.739</td>\n",
       "</tr>\n",
       "<tr>\n",
       "  <th>max_amount</th> <td>    0.2923</td> <td>    0.024</td> <td>   12.367</td> <td> 0.000</td> <td>    0.246</td> <td>    0.339</td>\n",
       "</tr>\n",
       "</table>\n",
       "<table class=\"simpletable\">\n",
       "<tr>\n",
       "  <th>Omnibus:</th>       <td>5580.836</td> <th>  Durbin-Watson:     </th>  <td>   2.007</td>  \n",
       "</tr>\n",
       "<tr>\n",
       "  <th>Prob(Omnibus):</th>  <td> 0.000</td>  <th>  Jarque-Bera (JB):  </th> <td>8162692.709</td>\n",
       "</tr>\n",
       "<tr>\n",
       "  <th>Skew:</th>           <td> 7.843</td>  <th>  Prob(JB):          </th>  <td>    0.00</td>  \n",
       "</tr>\n",
       "<tr>\n",
       "  <th>Kurtosis:</th>       <td>226.980</td> <th>  Cond. No.          </th>  <td>    315.</td>  \n",
       "</tr>\n",
       "</table><br/><br/>Notes:<br/>[1] Standard Errors assume that the covariance matrix of the errors is correctly specified."
      ],
      "text/plain": [
       "<class 'statsmodels.iolib.summary.Summary'>\n",
       "\"\"\"\n",
       "                            OLS Regression Results                            \n",
       "==============================================================================\n",
       "Dep. Variable:           revenue_2015   R-squared:                       0.605\n",
       "Model:                            OLS   Adj. R-squared:                  0.605\n",
       "Method:                 Least Squares   F-statistic:                     2979.\n",
       "Date:                Thu, 22 Apr 2021   Prob (F-statistic):               0.00\n",
       "Time:                        15:00:27   Log-Likelihood:                -24621.\n",
       "No. Observations:                3886   AIC:                         4.925e+04\n",
       "Df Residuals:                    3883   BIC:                         4.927e+04\n",
       "Df Model:                           2                                         \n",
       "Covariance Type:            nonrobust                                         \n",
       "==============================================================================\n",
       "                 coef    std err          t      P>|t|      [0.025      0.975]\n",
       "------------------------------------------------------------------------------\n",
       "Intercept     20.7471      2.381      8.713      0.000      16.079      25.415\n",
       "avg_amount     0.6749      0.033     20.575      0.000       0.611       0.739\n",
       "max_amount     0.2923      0.024     12.367      0.000       0.246       0.339\n",
       "==============================================================================\n",
       "Omnibus:                     5580.836   Durbin-Watson:                   2.007\n",
       "Prob(Omnibus):                  0.000   Jarque-Bera (JB):          8162692.709\n",
       "Skew:                           7.843   Prob(JB):                         0.00\n",
       "Kurtosis:                     226.980   Cond. No.                         315.\n",
       "==============================================================================\n",
       "\n",
       "Notes:\n",
       "[1] Standard Errors assume that the covariance matrix of the errors is correctly specified.\n",
       "\"\"\""
      ]
     },
     "execution_count": 49,
     "metadata": {},
     "output_type": "execute_result"
    }
   ],
   "source": [
    "# Calibrate the monetary model (version 1)\n",
    "amount_model = sm.OLS.from_formula(\n",
    "    \"revenue_2015 ~ avg_amount + max_amount\", in_sample.loc[z]\n",
    ")\n",
    "amount_model_fit = amount_model.fit()\n",
    "amount_model_fit.summary()"
   ]
  },
  {
   "cell_type": "markdown",
   "id": "af3c8c82",
   "metadata": {},
   "source": [
    "Our square value is point 60, which is basically a signal of the fit of the model. But, we have a slight issue here.\n",
    "\n",
    "If we plot on one hand how much has been spent by customers and on the other we take the amount model we've just created through linear regression, and look at the fitted values, we get an ugly chart. And the reason is that most customers have spent small amounts and a few outliers have spent huge amounts, up to \\$4.000."
   ]
  },
  {
   "cell_type": "code",
   "execution_count": 50,
   "id": "67ac6f85",
   "metadata": {},
   "outputs": [
    {
     "data": {
      "text/plain": [
       "<matplotlib.collections.PathCollection at 0x7fb8d7f75b80>"
      ]
     },
     "execution_count": 50,
     "metadata": {},
     "output_type": "execute_result"
    },
    {
     "data": {
      "image/png": "[encoded data removed]",
      "text/plain": [
       "<Figure size 720x576 with 1 Axes>"
      ]
     },
     "metadata": {
      "needs_background": "light"
     },
     "output_type": "display_data"
    }
   ],
   "source": [
    "plt.scatter(in_sample.loc[z].revenue_2015, amount_model_fit.fittedvalues)"
   ]
  },
  {
   "cell_type": "markdown",
   "id": "5d6a616d",
   "metadata": {
    "tags": []
   },
   "source": [
    "So for optimization purposes, instead of creating a model with the amount we're going to create an amount with logaritmic distribution.\n",
    "\n",
    "So instead of predicting revenue 2015 bsed on average amount and maximum amount. We're going to predict the log of revenue 2015 based on the log on average"
   ]
  },
  {
   "cell_type": "code",
   "execution_count": 51,
   "id": "450376d1",
   "metadata": {},
   "outputs": [
    {
     "data": {
      "text/html": [
       "<table class=\"simpletable\">\n",
       "<caption>OLS Regression Results</caption>\n",
       "<tr>\n",
       "  <th>Dep. Variable:</th>    <td>np.log(revenue_2015)</td> <th>  R-squared:         </th> <td>   0.693</td>\n",
       "</tr>\n",
       "<tr>\n",
       "  <th>Model:</th>                     <td>OLS</td>         <th>  Adj. R-squared:    </th> <td>   0.693</td>\n",
       "</tr>\n",
       "<tr>\n",
       "  <th>Method:</th>               <td>Least Squares</td>    <th>  F-statistic:       </th> <td>   4377.</td>\n",
       "</tr>\n",
       "<tr>\n",
       "  <th>Date:</th>               <td>Thu, 22 Apr 2021</td>   <th>  Prob (F-statistic):</th>  <td>  0.00</td> \n",
       "</tr>\n",
       "<tr>\n",
       "  <th>Time:</th>                   <td>15:00:28</td>       <th>  Log-Likelihood:    </th> <td> -2644.6</td>\n",
       "</tr>\n",
       "<tr>\n",
       "  <th>No. Observations:</th>        <td>  3886</td>        <th>  AIC:               </th> <td>   5295.</td>\n",
       "</tr>\n",
       "<tr>\n",
       "  <th>Df Residuals:</th>            <td>  3883</td>        <th>  BIC:               </th> <td>   5314.</td>\n",
       "</tr>\n",
       "<tr>\n",
       "  <th>Df Model:</th>                <td>     2</td>        <th>                     </th>     <td> </td>   \n",
       "</tr>\n",
       "<tr>\n",
       "  <th>Covariance Type:</th>        <td>nonrobust</td>      <th>                     </th>     <td> </td>   \n",
       "</tr>\n",
       "</table>\n",
       "<table class=\"simpletable\">\n",
       "<tr>\n",
       "           <td></td>             <th>coef</th>     <th>std err</th>      <th>t</th>      <th>P>|t|</th>  <th>[0.025</th>    <th>0.975]</th>  \n",
       "</tr>\n",
       "<tr>\n",
       "  <th>Intercept</th>          <td>    0.3700</td> <td>    0.040</td> <td>    9.242</td> <td> 0.000</td> <td>    0.292</td> <td>    0.448</td>\n",
       "</tr>\n",
       "<tr>\n",
       "  <th>np.log(avg_amount)</th> <td>    0.5488</td> <td>    0.042</td> <td>   13.171</td> <td> 0.000</td> <td>    0.467</td> <td>    0.631</td>\n",
       "</tr>\n",
       "<tr>\n",
       "  <th>np.log(max_amount)</th> <td>    0.3881</td> <td>    0.038</td> <td>   10.224</td> <td> 0.000</td> <td>    0.314</td> <td>    0.463</td>\n",
       "</tr>\n",
       "</table>\n",
       "<table class=\"simpletable\">\n",
       "<tr>\n",
       "  <th>Omnibus:</th>       <td>501.505</td> <th>  Durbin-Watson:     </th> <td>   1.961</td>\n",
       "</tr>\n",
       "<tr>\n",
       "  <th>Prob(Omnibus):</th> <td> 0.000</td>  <th>  Jarque-Bera (JB):  </th> <td>3328.833</td>\n",
       "</tr>\n",
       "<tr>\n",
       "  <th>Skew:</th>          <td> 0.421</td>  <th>  Prob(JB):          </th> <td>    0.00</td>\n",
       "</tr>\n",
       "<tr>\n",
       "  <th>Kurtosis:</th>      <td> 7.455</td>  <th>  Cond. No.          </th> <td>    42.2</td>\n",
       "</tr>\n",
       "</table><br/><br/>Notes:<br/>[1] Standard Errors assume that the covariance matrix of the errors is correctly specified."
      ],
      "text/plain": [
       "<class 'statsmodels.iolib.summary.Summary'>\n",
       "\"\"\"\n",
       "                             OLS Regression Results                             \n",
       "================================================================================\n",
       "Dep. Variable:     np.log(revenue_2015)   R-squared:                       0.693\n",
       "Model:                              OLS   Adj. R-squared:                  0.693\n",
       "Method:                   Least Squares   F-statistic:                     4377.\n",
       "Date:                  Thu, 22 Apr 2021   Prob (F-statistic):               0.00\n",
       "Time:                          15:00:28   Log-Likelihood:                -2644.6\n",
       "No. Observations:                  3886   AIC:                             5295.\n",
       "Df Residuals:                      3883   BIC:                             5314.\n",
       "Df Model:                             2                                         \n",
       "Covariance Type:              nonrobust                                         \n",
       "======================================================================================\n",
       "                         coef    std err          t      P>|t|      [0.025      0.975]\n",
       "--------------------------------------------------------------------------------------\n",
       "Intercept              0.3700      0.040      9.242      0.000       0.292       0.448\n",
       "np.log(avg_amount)     0.5488      0.042     13.171      0.000       0.467       0.631\n",
       "np.log(max_amount)     0.3881      0.038     10.224      0.000       0.314       0.463\n",
       "==============================================================================\n",
       "Omnibus:                      501.505   Durbin-Watson:                   1.961\n",
       "Prob(Omnibus):                  0.000   Jarque-Bera (JB):             3328.833\n",
       "Skew:                           0.421   Prob(JB):                         0.00\n",
       "Kurtosis:                       7.455   Cond. No.                         42.2\n",
       "==============================================================================\n",
       "\n",
       "Notes:\n",
       "[1] Standard Errors assume that the covariance matrix of the errors is correctly specified.\n",
       "\"\"\""
      ]
     },
     "execution_count": 51,
     "metadata": {},
     "output_type": "execute_result"
    }
   ],
   "source": [
    "# Re-calibrate the monetary model, using a log-transform (version 2)\n",
    "amount_model = sm.OLS.from_formula(\n",
    "    \"np.log(revenue_2015) ~ np.log(avg_amount) + np.log(max_amount)\", in_sample.loc[z]\n",
    ")\n",
    "amount_model_fit = amount_model.fit()\n",
    "amount_model_fit.summary()"
   ]
  },
  {
   "cell_type": "markdown",
   "id": "a410a9ff",
   "metadata": {},
   "source": [
    "The R-squared has improved, meaning we fit the data much better.\n",
    "\n",
    "Now the plot makes much more sense too. Since we put more weight to the smaller values and less weight to the very large values. \n",
    "\n",
    "It looks like we could generate a line through the cloud of points predicting the revenue of 2015."
   ]
  },
  {
   "cell_type": "code",
   "execution_count": 52,
   "id": "4a8bb5ef",
   "metadata": {},
   "outputs": [
    {
     "data": {
      "text/plain": [
       "<matplotlib.collections.PathCollection at 0x7fb8d6e0ce50>"
      ]
     },
     "execution_count": 52,
     "metadata": {},
     "output_type": "execute_result"
    },
    {
     "data": {
      "image/png": "[encoded data removed]",
      "text/plain": [
       "<Figure size 720x576 with 1 Axes>"
      ]
     },
     "metadata": {
      "needs_background": "light"
     },
     "output_type": "display_data"
    }
   ],
   "source": [
    "# Plot the results of the monetary model\n",
    "plt.scatter(np.log(in_sample.loc[z].revenue_2015), amount_model_fit.fittedvalues)"
   ]
  },
  {
   "cell_type": "markdown",
   "id": "bdcdeab9",
   "metadata": {},
   "source": [
    "To summarize we have just calibrated two models the first one over here, to predict the likelihood that someone will be active. And the second one over here to predict how much they will spend if they will be active in 2015. \n",
    "\n",
    "Now the end game of this exercise is actually to apply the models to predict the future. So what we are going to do is to look at today's behavior, today's data, and extract exactly the same information about today's customers as we used in terms of predictors about a year ago. So we're going to extract recency, first purchase, average amount, maximum amount, and everything else for the 2015 customers about whom of course we have no idea who will be active next year, and how much they'll spend in 2016. But we can try to predict that, with our model, so once you create that and that what is usually called the out of sample data set."
   ]
  },
  {
   "cell_type": "markdown",
   "id": "d4c72d87",
   "metadata": {},
   "source": [
    "## Apply The Model To Today's Data"
   ]
  },
  {
   "cell_type": "code",
   "execution_count": 53,
   "id": "4c6e9017",
   "metadata": {},
   "outputs": [],
   "source": [
    "# Compute RFM as of Today\n",
    "q = \"\"\"\n",
    "        SELECT customer_id, \n",
    "        MIN(days_since) AS 'recency', \n",
    "        MAX(days_since) AS 'first_purchase', \n",
    "        COUNT(*) AS 'frequency', \n",
    "        AVG(purchase_amount) AS 'avg_amount', \n",
    "        MAX(purchase_amount) AS 'max_amount' FROM df GROUP BY 1\n",
    "\"\"\"\n",
    "customers_2015 = sqldf(q, globals())"
   ]
  },
  {
   "cell_type": "code",
   "execution_count": 54,
   "id": "e0bc06d7",
   "metadata": {},
   "outputs": [],
   "source": [
    "# Predict the target variables based on today's data\n",
    "# 1st: we predict the probability that a customer is going to be in 2016 active\n",
    "customers_2015[\"prob_predicted\"] = prob_model_fit.predict(customers_2015)\n",
    "\n",
    "# 2nd we predict the revenue\n",
    "# Since our model predicts the log(amount) we need to take the exponential of\n",
    "# the predicted revenue generated per customer\n",
    "customers_2015[\"revenue_predicted\"] = np.exp(amount_model_fit.predict(customers_2015))\n",
    "\n",
    "# 3rd: we give a score to each customer which is the conjunction of probability\n",
    "# predicted multiplied by the amount.\n",
    "customers_2015[\"score_predicted\"] = (\n",
    "    customers_2015[\"prob_predicted\"] * customers_2015[\"revenue_predicted\"]\n",
    ")"
   ]
  },
  {
   "cell_type": "code",
   "execution_count": 55,
   "id": "fb9e20e6",
   "metadata": {},
   "outputs": [
    {
     "data": {
      "text/plain": [
       "count   18,417.00\n",
       "mean         0.22\n",
       "std          0.25\n",
       "min          0.00\n",
       "25%          0.01\n",
       "50%          0.11\n",
       "75%          0.40\n",
       "max          1.00\n",
       "Name: prob_predicted, dtype: float64"
      ]
     },
     "execution_count": 55,
     "metadata": {},
     "output_type": "execute_result"
    }
   ],
   "source": [
    "customers_2015.prob_predicted.describe()"
   ]
  },
  {
   "cell_type": "code",
   "execution_count": 56,
   "id": "a8d0cbae",
   "metadata": {},
   "outputs": [
    {
     "data": {
      "text/plain": [
       "count   18,417.00\n",
       "mean        65.63\n",
       "std        147.89\n",
       "min          6.54\n",
       "25%         29.00\n",
       "50%         35.05\n",
       "75%         57.30\n",
       "max      3,832.95\n",
       "Name: revenue_predicted, dtype: float64"
      ]
     },
     "execution_count": 56,
     "metadata": {},
     "output_type": "execute_result"
    }
   ],
   "source": [
    "customers_2015.revenue_predicted.describe()"
   ]
  },
  {
   "cell_type": "code",
   "execution_count": 57,
   "id": "685c1b9d",
   "metadata": {},
   "outputs": [
    {
     "data": {
      "text/plain": [
       "count   18,417.00\n",
       "mean        18.83\n",
       "std         70.21\n",
       "min          0.00\n",
       "25%          0.46\n",
       "50%          4.56\n",
       "75%         17.96\n",
       "max      2,854.16\n",
       "Name: score_predicted, dtype: float64"
      ]
     },
     "execution_count": 57,
     "metadata": {},
     "output_type": "execute_result"
    }
   ],
   "source": [
    "customers_2015.score_predicted.describe()"
   ]
  },
  {
   "cell_type": "markdown",
   "id": "c844bacc",
   "metadata": {},
   "source": [
    "So the overall score Is actually a function of both and probability and revenue together. And the score has a mean of 18,8. What does it mean? From a managerial point of view, that value is extremely important. It means that, on the average, every customer in this database, will spend 18 point eight dollar next year."
   ]
  },
  {
   "cell_type": "code",
   "execution_count": 58,
   "id": "766ed6aa",
   "metadata": {},
   "outputs": [
    {
     "data": {
      "text/plain": [
       "<AxesSubplot:>"
      ]
     },
     "execution_count": 58,
     "metadata": {},
     "output_type": "execute_result"
    },
    {
     "data": {
      "image/png": "[encoded data removed]",
      "text/plain": [
       "<Figure size 720x576 with 1 Axes>"
      ]
     },
     "metadata": {
      "needs_background": "light"
     },
     "output_type": "display_data"
    }
   ],
   "source": [
    "customers_2015.score_predicted.hist(bins=30)"
   ]
  },
  {
   "cell_type": "markdown",
   "id": "4e898643",
   "metadata": {},
   "source": [
    "We'll take the customers here. Look at their predict score and only retain those with the score. Above \\\\$50, and if you look at that, it will create a vector of people with a score above \\\\$50, which contains a total of 1323 customers. So in the list of 18,000 customers here about 1,300 have a predicted score of \\\\$50 or more and you can see which ones they are."
   ]
  },
  {
   "cell_type": "code",
   "execution_count": 59,
   "id": "a68e10a1",
   "metadata": {},
   "outputs": [
    {
     "name": "stdout",
     "output_type": "stream",
     "text": [
      "1324\n"
     ]
    }
   ],
   "source": [
    "# How many customers have an expected revenue of more than $50\n",
    "z = customers_2015[customers_2015.score_predicted > 50].index.tolist()\n",
    "print(len(z))"
   ]
  },
  {
   "cell_type": "code",
   "execution_count": 60,
   "id": "a7c2e8f9",
   "metadata": {},
   "outputs": [
    {
     "data": {
      "text/plain": [
       "2            90\n",
       "17          480\n",
       "38         1020\n",
       "41         1050\n",
       "42         1150\n",
       "          ...  \n",
       "18372    263080\n",
       "18391    263340\n",
       "18392    263350\n",
       "18402    263470\n",
       "18416    264200\n",
       "Name: customer_id, Length: 1324, dtype: int64"
      ]
     },
     "execution_count": 60,
     "metadata": {},
     "output_type": "execute_result"
    }
   ],
   "source": [
    "# Customers with the highest score:\n",
    "customers_2015[\"customer_id\"].loc[z]"
   ]
  }
 ],
 "metadata": {
  "kernelspec": {
   "display_name": "Python 3 (ipykernel)",
   "language": "python",
   "name": "python3"
  },
  "language_info": {
   "codemirror_mode": {
    "name": "ipython",
    "version": 3
   },
   "file_extension": ".py",
   "mimetype": "text/x-python",
   "name": "python",
   "nbconvert_exporter": "python",
   "pygments_lexer": "ipython3",
   "version": "3.10.4"
  }
 },
 "nbformat": 4,
 "nbformat_minor": 5
}
